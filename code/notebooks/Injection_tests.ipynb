{
 "cells": [
  {
   "cell_type": "markdown",
   "metadata": {},
   "source": [
    "# Injecting signals into TESS light curves."
   ]
  },
  {
   "cell_type": "code",
   "execution_count": 1,
   "metadata": {},
   "outputs": [],
   "source": [
    "from astropy.io import fits\n",
    "import numpy as np\n",
    "import os\n",
    "import matplotlib.pyplot as plt\n",
    "import eleanor\n",
    "from tqdm import tnrange, trange\n",
    "from tess_rotation import *\n",
    "\n",
    "from scipy.interpolate import RectBivariateSpline"
   ]
  },
  {
   "cell_type": "code",
   "execution_count": 9,
   "metadata": {},
   "outputs": [],
   "source": [
    "# This is the directory where MAST stores the prf FITS files.\n",
    "path = \"https://archive.stsci.edu/missions/tess/models/prf_fitsfiles/\""
   ]
  },
  {
   "cell_type": "code",
   "execution_count": 10,
   "metadata": {},
   "outputs": [],
   "source": [
    "prf = getPrfAtColRowFits(939.361, 1095.571, 1, 4, 1, path)  # col, row, ccd, camera, sector"
   ]
  },
  {
   "cell_type": "code",
   "execution_count": 11,
   "metadata": {},
   "outputs": [],
   "source": [
    "# shifted_prf2 = move_prf(prf, 0.0, -2.49)\n",
    "# shifted_prf1 = move_prf(prf, 0.0, 2.51)\n",
    "# plt.imshow(shifted_prf2, origin='lower')"
   ]
  },
  {
   "cell_type": "code",
   "execution_count": 15,
   "metadata": {},
   "outputs": [],
   "source": [
    "# plt.imshow(shifted_prf2 - shifted_prf1, origin='lower')\n",
    "# plt.colorbar()"
   ]
  },
  {
   "cell_type": "code",
   "execution_count": 16,
   "metadata": {},
   "outputs": [],
   "source": [
    "postflux = fits.open(\"/Users/rangus/.eleanor/mastDownload/HLSP/hlsp_eleanor_tess_ffi_postcard-s0001-4-1-cal-0902-1078_tess_v2_pc/\" \\\n",
    "                     \"hlsp_eleanor_tess_ffi_postcard-s0001-4-1-cal-0902-1078_tess_v2_pc.fits\")"
   ]
  },
  {
   "cell_type": "code",
   "execution_count": 18,
   "metadata": {},
   "outputs": [
    {
     "name": "stdout",
     "output_type": "stream",
     "text": [
      "(1282, 104, 148) (1282,)\n"
     ]
    }
   ],
   "source": [
    "postcard = postflux[2].data + 0.0\n",
    "time = postflux[1].data['tstart']\n",
    "print(np.shape(postcard), np.shape(time))"
   ]
  },
  {
   "cell_type": "code",
   "execution_count": 19,
   "metadata": {},
   "outputs": [
    {
     "data": {
      "text/plain": [
       "<matplotlib.image.AxesImage at 0x1a284a7c10>"
      ]
     },
     "execution_count": 19,
     "metadata": {},
     "output_type": "execute_result"
    },
    {
     "data": {
      "image/png": "[encoded data removed]",
      "text/plain": [
       "<Figure size 432x288 with 1 Axes>"
      ]
     },
     "metadata": {
      "needs_background": "light"
     },
     "output_type": "display_data"
    }
   ],
   "source": [
    "plt.imshow(postcard[0, :, :], origin='lower')"
   ]
  },
  {
   "cell_type": "code",
   "execution_count": 14,
   "metadata": {},
   "outputs": [
    {
     "name": "stderr",
     "output_type": "stream",
     "text": [
      "100%|██████████| 1282/1282 [00:38<00:00, 33.21it/s]\n"
     ]
    }
   ],
   "source": [
    "offset_y_1 = 0.5  # this should really be an array that tracks the row and column motions \n",
    "offset_x_1 = 0.7  # of the centroid of a star. You can calculate those yourself by taking a bright isolated star\n",
    "                  # and calculating the center of mass at each cadence and dropping that in, or running eleanor and\n",
    "                  # taking data.x_com (I think) would get you the same thing and you can drop in those offsets.\n",
    "\n",
    "signal_1 = 300 + 56.0 * np.sin(time*2*np.pi/4.8)  # simple sine wave, you can change it to something more realistic\n",
    "\n",
    "for i in trange(np.shape(postcard)[0]):\n",
    "    postcard[i,63:76,33:46] += signal_1[i]*move_prf(prf, offset_x_1, offset_y_1)"
   ]
  },
  {
   "cell_type": "code",
   "execution_count": null,
   "metadata": {},
   "outputs": [],
   "source": [
    "postflux[2].data = postcard + 0.0\n",
    "postflux.close()"
   ]
  }
 ],
 "metadata": {
  "kernelspec": {
   "display_name": "Python 3",
   "language": "python",
   "name": "python3"
  },
  "language_info": {
   "codemirror_mode": {
    "name": "ipython",
    "version": 3
   },
   "file_extension": ".py",
   "mimetype": "text/x-python",
   "name": "python",
   "nbconvert_exporter": "python",
   "pygments_lexer": "ipython3",
   "version": "3.7.6"
  }
 },
 "nbformat": 4,
 "nbformat_minor": 4
}
