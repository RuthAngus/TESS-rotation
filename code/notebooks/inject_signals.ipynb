{
 "cells": [
  {
   "cell_type": "markdown",
   "metadata": {},
   "source": [
    "# Ben Montet's notebook for injecting signals into TESS light curves."
   ]
  },
  {
   "cell_type": "code",
   "execution_count": null,
   "metadata": {},
   "outputs": [],
   "source": []
  },
  {
   "cell_type": "code",
   "execution_count": null,
   "metadata": {},
   "outputs": [],
   "source": [
    "from astropy.io import fits\n",
    "import numpy as np\n",
    "import os\n",
    "import matplotlib.pyplot as plt\n",
    "import eleanor\n",
    "from tqdm import tnrange\n",
    "\n",
    "from scipy.interpolate import RectBivariateSpline"
   ]
  },
  {
   "cell_type": "code",
   "execution_count": 3,
   "metadata": {},
   "outputs": [],
   "source": [
    "def pathLookup(ccd, camera, sector):\n",
    "    \"\"\"\n",
    "    Gets the datestring and the subdirectory for the specified PRF. \n",
    "    The datestring and directory name can be found from the ccd, camera and sector.\n",
    "    \n",
    "    Inputs\n",
    "    -------\n",
    "    ccd\n",
    "        (int) number of the TESS ccd. Accepts values from 1-4.\n",
    "    camera\n",
    "        (int) number of the TESS camera. Accepts values from 1-4\n",
    "    sector\n",
    "        (int) number of the TESS sector. Accepts values of 1 and above.\n",
    "    \n",
    "    Returns\n",
    "    -------\n",
    "    datestring\n",
    "        (str) Date string used in the TESS prf files name.\n",
    "    add_path\n",
    "        (str) Directory name where the TESS PRF is stored. (e.g. \"/start_s0001/\")\n",
    "    \"\"\" \n",
    "    if sector < 1:\n",
    "        raise ValueError(\"Sector must be greater than 0.\")\n",
    "    if (camera > 4) | (ccd > 4):\n",
    "        raise ValueError(\"Camera or CCD is larger than 4.\")\n",
    "\n",
    "    if sector <= 3:\n",
    "        add_path = \"/start_s0001/\"\n",
    "        datestring = \"2018243163600\"\n",
    "\n",
    "        if camera >= 3:\n",
    "            datestring = \"2018243163601\"\n",
    "        elif (camera == 2) & (ccd == 4):\n",
    "            datestring = \"2018243163601\"\n",
    "        \n",
    "    else:\n",
    "        add_path = \"/start_s0004/\"\n",
    "        datestring = \"2019107181900\"\n",
    "        if (camera == 1) & (ccd >= 2):\n",
    "            datestring = \"2019107181901\"\n",
    "        elif (camera == 2):\n",
    "            datestring = \"2019107181901\"\n",
    "        elif (camera == 3) & (ccd >= 2) :\n",
    "            datestring = \"2019107181902\"\n",
    "        elif (camera == 4):\n",
    "            datestring = \"2019107181902\"\n",
    "\n",
    "    return datestring, add_path"
   ]
  },
  {
   "cell_type": "code",
   "execution_count": 4,
   "metadata": {},
   "outputs": [],
   "source": [
    "def readOnePrfFitsFile(ccd, camera, col, row, path, datestring):\n",
    "    \"\"\"\n",
    "    reads in the full, interleaved prf Array for a single row,col,ccd,camera location.\n",
    "    \n",
    "    Inputs\n",
    "    -------\n",
    "    ccd\n",
    "        (int) CCD number\n",
    "    camera\n",
    "        (int) Camera number\n",
    "    col\n",
    "        (float) Specific column where the PRF was sampled.\n",
    "    row\n",
    "        (float) Specific row where the PRF was sampled.\n",
    "    path\n",
    "        (string) The full path of the data file. Can be the MAST Web address\n",
    "        \n",
    "    Returns\n",
    "    ------\n",
    "    prfArray\n",
    "        (np array) Full 117 x 117 interleaved prf Array for the requested file.      \n",
    "    \"\"\"\n",
    "        \n",
    "    fn = \"cam%u_ccd%u/tess%13s-prf-%1u-%1u-row%04u-col%04u.fits\" % \\\n",
    "        (camera, ccd, datestring, camera, ccd, row, col)\n",
    "\n",
    "    filepath = os.path.join(path, fn)\n",
    "    hdulistObj = fits.open(filepath)\n",
    "    prfArray = hdulistObj[0].data\n",
    "\n",
    "    return prfArray\n",
    "\n",
    "def determineFourClosestPrfLoc(col, row):\n",
    "    \"\"\"\n",
    "    Determine the four pairs of col,row positions of your target. \n",
    "    These are specific to TESS and where they chose to report their PRFs.\n",
    "    Inputs\n",
    "    ------\n",
    "    col\n",
    "        (float) Column position\n",
    "    row\n",
    "        (float) Row position.\n",
    "    \n",
    "    Returns\n",
    "    -------\n",
    "    imagePos\n",
    "        (list) A list of (col,row) pairs.\n",
    "    \"\"\"\n",
    "\n",
    "    posRows = np.array([1, 513, 1025, 1536, 2048])\n",
    "    posCols = np.array([45, 557, 1069, 1580,2092])\n",
    "\n",
    "    difcol = np.abs(posCols - col)\n",
    "    difrow = np.abs(posRows - row)\n",
    "\n",
    "    # Expand out to the four image position to interpolate between,\n",
    "    # Return as a list of tuples.\n",
    "    imagePos = []\n",
    "    for r in posRows[np.argsort(difrow)[0:2]]:\n",
    "        for c in posCols[np.argsort(difcol)[0:2]]:\n",
    "            imagePos.append((c,r))\n",
    "\n",
    "    return imagePos"
   ]
  },
  {
   "cell_type": "code",
   "execution_count": 5,
   "metadata": {},
   "outputs": [],
   "source": [
    "def getOffsetsFromPixelFractions(col, row):\n",
    "    \"\"\"\n",
    "    Determine just the fractional part (the intra-pixel part) of the col,row position.  \n",
    "    For example, if (col, row) = (123.4, 987.6), then\n",
    "    (colFrac, rowFrac) = (.4, .6). \n",
    "    \n",
    "    Function then returns the offset necessary for addressing the interleaved PRF array.\n",
    "    to ensure you get the location appropriate for your sub-pixel values.\n",
    "    \n",
    "    Inputs\n",
    "    ------\n",
    "    col\n",
    "        (float) Column position\n",
    "    row\n",
    "        (float) Row position.\n",
    "    \n",
    "    Returns\n",
    "    ------\n",
    "    (colFrac, rowFrac)\n",
    "       (int, int) offset necessary for addressing the interleaved PRF array.\n",
    "    \"\"\"\n",
    "    gridSize = 9\n",
    "\n",
    "    colFrac = np.remainder(float(col), 1)\n",
    "    rowFrac = np.remainder(float(row), 1)\n",
    "\n",
    "    colOffset = gridSize - np.round(gridSize * colFrac) - 1\n",
    "    rowOffset = gridSize - np.round(gridSize * rowFrac) - 1\n",
    "    \n",
    "    return int(colOffset), int(rowOffset)\n",
    "\n",
    "def getRegSampledPrfFitsByOffset(prfArray, colOffset, rowOffset):\n",
    "    \"\"\"\n",
    "    The 13x13 pixel PRFs on at each grid location are sampled at a 9x9 intra-pixel grid, to\n",
    "    describe how the PRF changes as the star moves by a fraction of a pixel in row or column.\n",
    "    To extract out a single PRF, you need to address the 117x117 array in a funny way\n",
    "    (117 = 13x9). Essentially you need to pull out every 9th element in the array, i.e.\n",
    "\n",
    "    .. code-block:: python\n",
    "\n",
    "        img = array[ [colOffset, colOffset+9, colOffset+18, ...],\n",
    "                     [rowOffset, rowOffset+9, ...] ]\n",
    "    \n",
    "    Inputs\n",
    "    ------\n",
    "    prfArray\n",
    "        117x117 interleaved PRF array\n",
    "    colOffset, rowOffset\n",
    "        The offset used to address the column and row in the interleaved PRF\n",
    "    \n",
    "    Returns\n",
    "    ------\n",
    "    prf\n",
    "        13x13 PRF image for the specified column and row offset\n",
    "    \n",
    "    \"\"\"\n",
    "    gridSize = 9\n",
    "\n",
    "    assert colOffset < gridSize\n",
    "    assert rowOffset < gridSize\n",
    "\n",
    "    # Number of pixels in regularly sampled PRF. Should be 13x13\n",
    "    nColOut, nRowOut = prfArray.shape\n",
    "    nColOut /= float(gridSize)\n",
    "    nRowOut /= float(gridSize)\n",
    "\n",
    "    iCol = colOffset + (np.arange(nColOut) * gridSize).astype(np.int)\n",
    "    iRow = rowOffset + (np.arange(nRowOut) * gridSize).astype(np.int)\n",
    "\n",
    "    tmp = prfArray[iRow, :]\n",
    "    prf = tmp[:,iCol]\n",
    "\n",
    "    return prf"
   ]
  },
  {
   "cell_type": "code",
   "execution_count": 6,
   "metadata": {},
   "outputs": [],
   "source": [
    "def interpolatePrf(regPrfArray, col, row, imagePos):\n",
    "    \"\"\"\n",
    "    Interpolate between 4 images to find the best PRF at the specified column and row.\n",
    "    This is a simple linear interpolation.\n",
    "    \n",
    "    Inputs\n",
    "    -------\n",
    "    regPrfArray \n",
    "        13x13x4 prf image array of the four nearby locations.\n",
    "        \n",
    "    col and row \n",
    "        (float) the location to interpolate to.\n",
    "        \n",
    "    imagePos\n",
    "        (list) 4 floating point (col, row) locations\n",
    "        \n",
    "    Returns\n",
    "    ----\n",
    "    Single interpolated PRF image.\n",
    "    \"\"\"\n",
    "    p11, p21, p12, p22 = regPrfArray\n",
    "    c0 = imagePos[0][0]\n",
    "    c1 = imagePos[1][0]\n",
    "    r0 = imagePos[0][1]\n",
    "    r1 = imagePos[2][1]\n",
    "\n",
    "    assert c0 != c1\n",
    "    assert r0 != r1\n",
    "\n",
    "    dCol = (col-c0) / (c1-c0)\n",
    "    dRow = (row-r0) / (r1 - r0)\n",
    "\n",
    "    # Intpolate across the rows\n",
    "    tmp1 = p11 + (p21 - p11) * dCol\n",
    "    tmp2 = p12 + (p22 - p12) * dCol\n",
    "\n",
    "    # Interpolate across the columns\n",
    "    out = tmp1 + (tmp2-tmp1) * dRow\n",
    "    return out"
   ]
  },
  {
   "cell_type": "code",
   "execution_count": 7,
   "metadata": {},
   "outputs": [],
   "source": [
    "def getNearestPrfFits(col, row, ccd, camera, sector, path):\n",
    "    \"\"\"\n",
    "    Main Function\n",
    "    Return a 13x13 PRF image for a single location. No interpolation\n",
    "    \n",
    "    This function is identical to getPrfAtColRowFits except it does not perform the interpolation step.\n",
    "    \n",
    "    Inputs\n",
    "    ---------\n",
    "    col, row\n",
    "        (floats) Location on CCD to lookup. The origin of the CCD is the bottom left.\n",
    "        Increasing column increases the \"x-direction\", and row increases the \"y-direction\"\n",
    "        The column coordinate system starts at column 45.\n",
    "    ccd\n",
    "        (int) CCD number. There are 4 CCDs per camera\n",
    "    camera\n",
    "        (int) Camera number. The instrument has 4 cameras\n",
    "    sector\n",
    "        (int)  Sector number, greater than or equal to 1.\n",
    "\n",
    "    Returns\n",
    "    ---------\n",
    "    A 13x13 numpy image array of the nearest PRF to the specifed column and row.\n",
    "    \"\"\"\n",
    "    col = float(col)\n",
    "    row = float(row)\n",
    "    prfImages = []\n",
    "    \n",
    "    # Determine a datestring in the file name and the path based on ccd/camer/sector\n",
    "    datestring, addPath = pathLookup(ccd, camera, sector)\n",
    "    path = path + addPath\n",
    "    \n",
    "    # Convert the fractional pixels to the offset required for the interleaved pixels.\n",
    "    colOffset, rowOffset = getOffsetsFromPixelFractions(col, row)\n",
    "    \n",
    "    # Determine the 4 (col,row) locations with exact PRF measurements.\n",
    "    imagePos = determineFourClosestPrfLoc(col, row)\n",
    "    bestPos = imagePos[0]\n",
    "    prfArray = readOnePrfFitsFile(ccd, camera, bestPos[0], bestPos[1], path, datestring)\n",
    "            \n",
    "    prfImage = getRegSampledPrfFitsByOffset(prfArray, colOffset, rowOffset)       \n",
    "\n",
    "    return prfArray, prfImage"
   ]
  },
  {
   "cell_type": "code",
   "execution_count": 8,
   "metadata": {},
   "outputs": [],
   "source": [
    "def getPrfAtColRowFits(col, row, ccd, camera, sector, path):\n",
    "    \"\"\"\n",
    "    Main Function\n",
    "    Lookup a 13x13 PRF image for a single location\n",
    "    \n",
    "    Inputs\n",
    "    ---------\n",
    "    col, row\n",
    "        (floats) Location on CCD to lookup. The origin of the CCD is the bottom left.\n",
    "        Increasing column increases the \"x-direction\", and row increases the \"y-direction\"\n",
    "        The column coordinate system starts at column 45.\n",
    "    ccd\n",
    "        (int) CCD number. There are 4 CCDs per camera\n",
    "    camera\n",
    "        (int) Camera number. The instrument has 4 cameras\n",
    "    sector\n",
    "        (int)  Sector number, greater than or equal to 1.\n",
    "    path\n",
    "        (str) Directory or URL where the PRF fits files are located\n",
    "\n",
    "    Returns\n",
    "    ---------\n",
    "    A 13x13 numpy image array of the interpolated PRF.\n",
    "    \"\"\"\n",
    "    col = float(col)\n",
    "    row = float(row)\n",
    "    prfImages = []\n",
    "    \n",
    "    # Determine a datestring in the file name and the path based on ccd/camera/sector\n",
    "    datestring, subDirectory = pathLookup(ccd, camera, sector)\n",
    "    path = path + subDirectory\n",
    "    \n",
    "    # Convert the fractional pixels to the offset required for the interleaved pixels.\n",
    "    colOffset, rowOffset = getOffsetsFromPixelFractions(col, row)\n",
    "    \n",
    "    # Determine the 4 (col,row) locations with exact PRF measurements.\n",
    "    imagePos = determineFourClosestPrfLoc(col, row)\n",
    "\n",
    "    # Loop over the 4 locations and read in each file and extract the sub-pixel location.\n",
    "    for pos in imagePos:\n",
    "            prfArray = readOnePrfFitsFile(ccd, camera, pos[0], pos[1], path, datestring)\n",
    "            \n",
    "            #img = getRegSampledPrfFitsByOffset(prfArray, colOffset, rowOffset)       \n",
    "            prfImages.append(prfArray)\n",
    "\n",
    "    # Simple linear interpolate across the 4 locations.\n",
    "    interpolatedPrf = interpolatePrf(prfImages, col, row, imagePos)\n",
    "\n",
    "    return interpolatedPrf"
   ]
  },
  {
   "cell_type": "code",
   "execution_count": 9,
   "metadata": {},
   "outputs": [],
   "source": [
    "# This is the directory where MAST stores the prf FITS files.\n",
    "path = \"https://archive.stsci.edu/missions/tess/models/prf_fitsfiles/\"\n"
   ]
  },
  {
   "cell_type": "code",
   "execution_count": 10,
   "metadata": {},
   "outputs": [],
   "source": [
    "prf = getPrfAtColRowFits(939.361, 1095.571, 1, 4, 1, path)  # col, row, ccd, camera, sector"
   ]
  },
  {
   "cell_type": "code",
   "execution_count": 11,
   "metadata": {},
   "outputs": [],
   "source": [
    "def make_prf(col, row, ccd, camera, sector, xshift, yshift):\n",
    "    return getPrfAtColRowFits(col, row, ccd, camera, sector, path)\n",
    "\n",
    "def move_prf(prf, xshift, yshift):\n",
    "   \n",
    "    x = np.linspace(0.0, 13.0, 117)\n",
    "    y = np.linspace(0.0, 13.0, 117)\n",
    "    X, Y = np.meshgrid(x, y)\n",
    "    \n",
    "    interp_spline = RectBivariateSpline(y, x, prf)\n",
    "\n",
    "    dx2, dy2 = 0.01, 0.01\n",
    "    x2 = np.arange(0.0-xshift, 13.0-xshift, dx2)\n",
    "    y2 = np.arange(0.0-yshift, 13.0-yshift, dy2)\n",
    "    X2, Y2 = np.meshgrid(x2,y2)\n",
    "    Z2 = interp_spline(y2, x2)\n",
    "    \n",
    "    \n",
    "    return np.sum(np.reshape(Z2, (13,100,13,100)), axis=(1,3))/100/100\n",
    "    \n"
   ]
  },
  {
   "cell_type": "code",
   "execution_count": 12,
   "metadata": {},
   "outputs": [
    {
     "data": {
      "text/plain": [
       "<matplotlib.image.AxesImage at 0x1a2a91ee50>"
      ]
     },
     "execution_count": 12,
     "metadata": {},
     "output_type": "execute_result"
    },
    {
     "data": {
      "image/png": "[encoded data removed]",
      "text/plain": [
       "<Figure size 432x288 with 1 Axes>"
      ]
     },
     "metadata": {
      "needs_background": "light"
     },
     "output_type": "display_data"
    }
   ],
   "source": [
    "shifted_prf2 = move_prf(prf, 0.0, -2.49)\n",
    "shifted_prf1 = move_prf(prf, 0.0, 2.51)\n",
    "\n",
    "\n",
    "plt.imshow(shifted_prf2, origin='lower')\n",
    "\n",
    "    "
   ]
  },
  {
   "cell_type": "code",
   "execution_count": 13,
   "metadata": {},
   "outputs": [
    {
     "data": {
      "text/plain": [
       "<matplotlib.colorbar.Colorbar at 0x1a2d28f510>"
      ]
     },
     "execution_count": 13,
     "metadata": {},
     "output_type": "execute_result"
    },
    {
     "data": {
      "image/png": "[encoded data removed]",
      "text/plain": [
       "<Figure size 432x288 with 2 Axes>"
      ]
     },
     "metadata": {
      "needs_background": "light"
     },
     "output_type": "display_data"
    }
   ],
   "source": [
    "plt.imshow(shifted_prf2-shifted_prf1, origin='lower')\n",
    "plt.colorbar()"
   ]
  },
  {
   "cell_type": "code",
   "execution_count": 14,
   "metadata": {},
   "outputs": [],
   "source": [
    "from tqdm import trange"
   ]
  },
  {
   "cell_type": "code",
   "execution_count": 20,
   "metadata": {},
   "outputs": [],
   "source": [
    "# postflux = fits.open(\"/Users/ozymandias1/.eleanor/mastDownload/HLSP/hlsp_eleanor_tess_ffi_postcard-s0005-1-1-cal-0314-0322_tess_v2_pc/\" \\\n",
    "#                         \"hlsp_eleanor_tess_ffi_postcard-s0005-1-1-cal-0314-0322_tess_v2_pc.fits\")\n",
    "postflux = fits.open(\"/Users/rangus/.eleanor/mastDownload/HLSP/hlsp_eleanor_tess_ffi_postcard-s0001-4-1-cal-0902-1078_tess_v2_pc/\" \\\n",
    "                     \"hlsp_eleanor_tess_ffi_postcard-s0001-4-1-cal-0902-1078_tess_v2_pc.fits\")"
   ]
  },
  {
   "cell_type": "code",
   "execution_count": 21,
   "metadata": {},
   "outputs": [
    {
     "name": "stderr",
     "output_type": "stream",
     "text": [
      "100%|██████████| 1282/1282 [00:36<00:00, 35.41it/s]\n"
     ]
    }
   ],
   "source": [
    "postcard = postflux[2].data + 0.0\n",
    "time = postflux[1].data['tstart']\n",
    "\n",
    "\n",
    "offset_y_1 = 0.5  # this should really be an array that tracks the row and column motions \n",
    "offset_x_1 = 0.7  # of the centroid of a star. You can calculate those yourself by taking a bright isolated star\n",
    "                  # and calculating the center of mass at each cadence and dropping that in, or running eleanor and\n",
    "                  # taking data.x_com (I think) would get you the same thing and you can drop in those offsets.\n",
    "\n",
    "signal_1 = 300+56.0*np.sin(time*2*np.pi/4.8)  # simple sine wave, you can change it to something more realistic\n",
    "\n",
    "\n",
    "for i in trange(np.shape(postcard)[0]):\n",
    "    postcard[i, 63:76,33:46] += signal_1[i]*move_prf(prf, offset_x_1, offset_y_1)\n",
    "\n"
   ]
  },
  {
   "cell_type": "code",
   "execution_count": 22,
   "metadata": {},
   "outputs": [
    {
     "data": {
      "text/plain": [
       "[<matplotlib.lines.Line2D at 0x1a2ce19f10>]"
      ]
     },
     "execution_count": 22,
     "metadata": {},
     "output_type": "execute_result"
    },
    {
     "data": {
      "image/png": "[encoded data removed]",
      "text/plain": [
       "<Figure size 432x288 with 1 Axes>"
      ]
     },
     "metadata": {
      "needs_background": "light"
     },
     "output_type": "display_data"
    }
   ],
   "source": [
    "plt.plot(time, signal_1, '.')"
   ]
  },
  {
   "cell_type": "code",
   "execution_count": 23,
   "metadata": {},
   "outputs": [],
   "source": [
    "#orig_data = fits.open('/Users/ozymandias1/.eleanor/mastDownload/HLSP/hlsp_eleanor_tess_ffi_postcard-s0005-1-1-cal-0314-0322_tess_v2_pc/hlsp_eleanor_tess_ffi_postcard-s0005-1-1-cal-0314-0322_tess_v2_pc.fits')"
   ]
  },
  {
   "cell_type": "code",
   "execution_count": 18,
   "metadata": {},
   "outputs": [],
   "source": [
    "postflux[2].data = postcard + 0.0"
   ]
  },
  {
   "cell_type": "code",
   "execution_count": 19,
   "metadata": {},
   "outputs": [],
   "source": [
    "#postflux.writeto('test_postcard_20200513.fits', overwrite=True)"
   ]
  },
  {
   "cell_type": "code",
   "execution_count": 20,
   "metadata": {},
   "outputs": [],
   "source": [
    "postflux.close()"
   ]
  },
  {
   "cell_type": "code",
   "execution_count": null,
   "metadata": {},
   "outputs": [],
   "source": []
  }
 ],
 "metadata": {
  "anaconda-cloud": {},
  "kernelspec": {
   "display_name": "Python 3",
   "language": "python",
   "name": "python3"
  },
  "language_info": {
   "codemirror_mode": {
    "name": "ipython",
    "version": 3
   },
   "file_extension": ".py",
   "mimetype": "text/x-python",
   "name": "python",
   "nbconvert_exporter": "python",
   "pygments_lexer": "ipython3",
   "version": "3.7.6"
  }
 },
 "nbformat": 4,
 "nbformat_minor": 4
}
